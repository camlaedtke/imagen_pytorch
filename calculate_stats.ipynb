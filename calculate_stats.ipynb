{
 "cells": [
  {
   "cell_type": "code",
   "execution_count": 1,
   "id": "69b0500a",
   "metadata": {},
   "outputs": [],
   "source": [
    "import json\n",
    "from glob import glob"
   ]
  },
  {
   "cell_type": "code",
   "execution_count": 2,
   "id": "18c8dead",
   "metadata": {},
   "outputs": [],
   "source": [
    "def compute_stats(files, limit=None):\n",
    "    stats_files = glob(files)\n",
    "    \n",
    "    n_total = 0\n",
    "    n_successes = 0\n",
    "    for stats_file in stats_files[0:limit] if limit is not None else stats_files:\n",
    "        f = open(stats_file)\n",
    "        stats = json.load(f)\n",
    "        f.close()\n",
    "        n_total += stats[\"count\"]\n",
    "        n_successes += stats[\"successes\"]\n",
    "        \n",
    "    print(\n",
    "        f\"Files: [{stats_files[0]} ... {stats_files[limit] if limit is not None else stats_files[-1]}] \\n\"\\\n",
    "        f\"Count: {n_total:,} \\n\"\\\n",
    "        f\"Successes: {n_successes:,} \\n\"\\\n",
    "        f\"Success rate: {(n_successes/n_total)*100:.2f}% \\n\"\\\n",
    "        f\"Steps (bs 256): {n_successes/256:,.0f}\"\n",
    "    )"
   ]
  },
  {
   "cell_type": "code",
   "execution_count": 3,
   "id": "65f60c68",
   "metadata": {},
   "outputs": [],
   "source": [
    "# compute_stats(\"E:/datasets/laion400m-data/*_stats.json\", limit=None)"
   ]
  },
  {
   "cell_type": "code",
   "execution_count": 6,
   "id": "74798757",
   "metadata": {},
   "outputs": [
    {
     "name": "stdout",
     "output_type": "stream",
     "text": [
      "Files: [F:/datasets/cc12m_original\\00000_stats.json ... F:/datasets/cc12m_original\\01000_stats.json] \n",
      "Count: 10,000,000 \n",
      "Successes: 8,496,964 \n",
      "Success rate: 84.97% \n",
      "Steps (bs 256): 33,191\n"
     ]
    }
   ],
   "source": [
    "compute_stats(\"F:/datasets/cc12m_original/*_stats.json\", limit=1000)"
   ]
  },
  {
   "cell_type": "code",
   "execution_count": null,
   "id": "37692814",
   "metadata": {},
   "outputs": [],
   "source": []
  }
 ],
 "metadata": {
  "kernelspec": {
   "display_name": "Python 3 (ipykernel)",
   "language": "python",
   "name": "python3"
  },
  "language_info": {
   "codemirror_mode": {
    "name": "ipython",
    "version": 3
   },
   "file_extension": ".py",
   "mimetype": "text/x-python",
   "name": "python",
   "nbconvert_exporter": "python",
   "pygments_lexer": "ipython3",
   "version": "3.9.12"
  }
 },
 "nbformat": 4,
 "nbformat_minor": 5
}
