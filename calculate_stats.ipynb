{
 "cells": [
  {
   "cell_type": "code",
   "execution_count": 1,
   "id": "69b0500a",
   "metadata": {},
   "outputs": [],
   "source": [
    "import json\n",
    "from glob import glob"
   ]
  },
  {
   "cell_type": "code",
   "execution_count": 2,
   "id": "91477348",
   "metadata": {},
   "outputs": [],
   "source": [
    "stats_files = glob(\"cc12m/*_stats.json\")"
   ]
  },
  {
   "cell_type": "code",
   "execution_count": 5,
   "id": "bcda9bec",
   "metadata": {
    "scrolled": true
   },
   "outputs": [
    {
     "data": {
      "text/plain": [
       "['cc12m\\\\00462_stats.json',\n",
       " 'cc12m\\\\00463_stats.json',\n",
       " 'cc12m\\\\00464_stats.json',\n",
       " 'cc12m\\\\00465_stats.json',\n",
       " 'cc12m\\\\00466_stats.json']"
      ]
     },
     "execution_count": 5,
     "metadata": {},
     "output_type": "execute_result"
    }
   ],
   "source": [
    "downloaded_files = stats_files[0:467]\n",
    "downloaded_files[-5:]"
   ]
  },
  {
   "cell_type": "code",
   "execution_count": 6,
   "id": "2ccaaade",
   "metadata": {},
   "outputs": [],
   "source": [
    "n_total = 0\n",
    "n_successes = 0\n",
    "for stats_file in downloaded_files:\n",
    "    f = open(stats_file)\n",
    "    stats = json.load(f)\n",
    "    f.close()\n",
    "    n_total += stats[\"count\"]\n",
    "    n_successes += stats[\"successes\"]"
   ]
  },
  {
   "cell_type": "code",
   "execution_count": 7,
   "id": "83e0ad82",
   "metadata": {},
   "outputs": [
    {
     "name": "stdout",
     "output_type": "stream",
     "text": [
      "Count: 4,670,000 \n",
      "Successes: 3,967,588 \n",
      "Success rate: 84.96%\n"
     ]
    }
   ],
   "source": [
    "print(f\"Count: {n_total:,} \\nSuccesses: {n_successes:,} \\nSuccess rate: {(n_successes/n_total)*100:.2f}%\")"
   ]
  },
  {
   "cell_type": "code",
   "execution_count": null,
   "id": "e46925af",
   "metadata": {},
   "outputs": [],
   "source": []
  }
 ],
 "metadata": {
  "kernelspec": {
   "display_name": "Python 3 (ipykernel)",
   "language": "python",
   "name": "python3"
  },
  "language_info": {
   "codemirror_mode": {
    "name": "ipython",
    "version": 3
   },
   "file_extension": ".py",
   "mimetype": "text/x-python",
   "name": "python",
   "nbconvert_exporter": "python",
   "pygments_lexer": "ipython3",
   "version": "3.9.12"
  }
 },
 "nbformat": 4,
 "nbformat_minor": 5
}
