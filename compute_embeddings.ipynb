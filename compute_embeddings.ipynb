{
 "cells": [
  {
   "cell_type": "markdown",
   "id": "d4b394a1",
   "metadata": {},
   "source": [
    "# Computation of caption text embeddings\n",
    "\n",
    "To do\n",
    "- Iron out bugs in the batch downloader\n",
    "- Use [dask delayed](https://docs.dask.org/en/stable/delayed.html). Configure scheduling so that GPU computations wait until a few hundred captions are accumilated. Then run computation, take out individual embeddings, truncate, and write."
   ]
  },
  {
   "cell_type": "code",
   "execution_count": 1,
   "id": "5fba3742",
   "metadata": {},
   "outputs": [
    {
     "name": "stdout",
     "output_type": "stream",
     "text": [
      "cuda\n"
     ]
    }
   ],
   "source": [
    "import json\n",
    "import torch\n",
    "import random\n",
    "import braceexpand\n",
    "from time import time\n",
    "from tqdm import tqdm\n",
    "import webdataset as wds\n",
    "from imagen_pytorch.t5 import t5_encode_text\n",
    "device = torch.device(\"cuda\") if torch.cuda.is_available() else torch.device(\"cpu\")\n",
    "print(device)"
   ]
  },
  {
   "cell_type": "code",
   "execution_count": 2,
   "id": "75b3add8",
   "metadata": {},
   "outputs": [],
   "source": [
    "def get_emb_tensor(text):\n",
    "    text_embeds = t5_encode_text([text], name=\"google/t5-v1_1-xl\", return_attn_mask=False)\n",
    "    return text_embeds.cpu()\n",
    "\n",
    "\n",
    "def get_count(input_file):\n",
    "    stats_file = input_file[:-4] + \"_stats.json\"\n",
    "    f = open(stats_file)\n",
    "    stats = json.load(f)\n",
    "    f.close()\n",
    "    count = stats[\"successes\"]\n",
    "    return count\n",
    "\n",
    "            \n",
    "def shuffle_augment_wds(input, output):\n",
    "    start = time()\n",
    "    count = get_count(input)\n",
    "    input = \"file:\"+input\n",
    "    src = wds.DataPipeline(\n",
    "        wds.SimpleShardList(input),\n",
    "        wds.tarfile_to_samples(),\n",
    "        wds.decode(\"pil\"),\n",
    "        wds.to_tuple(\"__key__\", \"jpg;png\", \"txt\", \"txt\"),\n",
    "        wds.map_tuple(None, None, None, get_emb_tensor)\n",
    "    )\n",
    "    \n",
    "    samples = []\n",
    "    for key, img, cap, emb in tqdm(src, total=count, desc=f\"Extracting {input}\"):\n",
    "        samples.append([key, img, cap, emb])\n",
    "    random.shuffle(samples)    \n",
    "    \n",
    "    dst = wds.TarWriter(output)\n",
    "    for sample in tqdm(samples, total=count, desc=f\"Writing {output}\"):\n",
    "        dst.write({\"__key__\":sample[0], \"png\":sample[1], \"txt\":sample[2], \"emb.pyd\":sample[3]})\n",
    "    end = time()\n",
    "    print(f\"Finished - {end-start:.0f}s\")"
   ]
  },
  {
   "cell_type": "code",
   "execution_count": null,
   "id": "e2c788d0",
   "metadata": {
    "scrolled": false
   },
   "outputs": [
    {
     "name": "stderr",
     "output_type": "stream",
     "text": [
      "Extracting file:cc12m_original/00956.tar: 100%|██████████| 8353/8353 [04:01<00:00, 34.56it/s]\n",
      "Writing file:E:/datasets/cc12m_w_embeds/00956.tar: 100%|██████████| 8353/8353 [01:22<00:00, 101.14it/s]\n"
     ]
    },
    {
     "name": "stdout",
     "output_type": "stream",
     "text": [
      "Finished - 324s\n"
     ]
    },
    {
     "name": "stderr",
     "output_type": "stream",
     "text": [
      "Extracting file:cc12m_original/00957.tar:  65%|██████▍   | 5366/8295 [02:19<01:17, 37.83it/s]"
     ]
    }
   ],
   "source": [
    "input_shards = braceexpand.braceexpand(\"cc12m_original/{00956..01242}.tar\")\n",
    "output_shards = braceexpand.braceexpand(\"file:E:/datasets/cc12m_w_embeds/{00956..01242}.tar\")\n",
    "for input_shard, output_shard in zip(input_shards, output_shards):\n",
    "    shuffle_augment_wds(input=input_shard, output=output_shard)"
   ]
  },
  {
   "cell_type": "code",
   "execution_count": null,
   "id": "a402a502",
   "metadata": {},
   "outputs": [],
   "source": []
  }
 ],
 "metadata": {
  "kernelspec": {
   "display_name": "Python 3 (ipykernel)",
   "language": "python",
   "name": "python3"
  },
  "language_info": {
   "codemirror_mode": {
    "name": "ipython",
    "version": 3
   },
   "file_extension": ".py",
   "mimetype": "text/x-python",
   "name": "python",
   "nbconvert_exporter": "python",
   "pygments_lexer": "ipython3",
   "version": "3.9.12"
  }
 },
 "nbformat": 4,
 "nbformat_minor": 5
}
