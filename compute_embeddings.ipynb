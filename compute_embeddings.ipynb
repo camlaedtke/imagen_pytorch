{
 "cells": [
  {
   "cell_type": "markdown",
   "id": "d4b394a1",
   "metadata": {},
   "source": [
    "# Computation of caption text embeddings\n",
    "\n",
    "To do\n",
    "- Iron out bugs in the batch downloader\n",
    "- Use [dask delayed](https://docs.dask.org/en/stable/delayed.html). Configure scheduling so that GPU computations wait until a few hundred captions are accumilated. Then run computation, take out individual embeddings, truncate, and write."
   ]
  },
  {
   "cell_type": "code",
   "execution_count": 1,
   "id": "5fba3742",
   "metadata": {},
   "outputs": [
    {
     "name": "stdout",
     "output_type": "stream",
     "text": [
      "cuda\n"
     ]
    }
   ],
   "source": [
    "import json\n",
    "import torch\n",
    "import braceexpand\n",
    "from tqdm import tqdm\n",
    "from imagen_pytorch.t5 import t5_encode_text\n",
    "import webdataset as wds\n",
    "\n",
    "device = torch.device(\"cuda\") if torch.cuda.is_available() else torch.device(\"cpu\")\n",
    "print(device)"
   ]
  },
  {
   "cell_type": "code",
   "execution_count": 2,
   "id": "f677496f",
   "metadata": {},
   "outputs": [],
   "source": [
    "def batch_augment_wds(input, output, batch_size=256):\n",
    "    \n",
    "    stats_file = input[:-4] + \"_stats.json\"\n",
    "    f = open(stats_file)\n",
    "    stats = json.load(f)\n",
    "    f.close()\n",
    "    count = stats[\"successes\"]\n",
    "    \n",
    "    src = wds.DataPipeline(\n",
    "        wds.SimpleShardList(input),\n",
    "        wds.tarfile_to_samples(),\n",
    "        wds.decode(\"pil\"),\n",
    "        wds.to_tuple(\"__key__\", \"jpg;png\", \"txt\"),\n",
    "        wds.map_tuple(None, None, None)\n",
    "    )\n",
    "    \n",
    "    dst = wds.TarWriter(output) \n",
    "    \n",
    "    keys = []; imgs = []; caps = []; idx = 0\n",
    "    # for key, img, cap in tqdm(src, total=count, desc=f\"Writing {output}\"):\n",
    "    for idx, (key, img, cap) in enumerate(src):\n",
    "        keys.append(key)\n",
    "        imgs.append(img)\n",
    "        caps.append(cap)\n",
    "        if ((idx+1)%batch_size == 0) or idx==count:\n",
    "            print(f\"\\r Step {idx}/{count}\", end='')\n",
    "            batch_embeds = t5_encode_text(caps, name=\"google/t5-v1_1-xl\", return_attn_mask=False)\n",
    "            batch_embeds = batch_embeds.cpu() # consider removing \n",
    "            embs = []\n",
    "            for tensor in batch_embeds:\n",
    "                ix, iy = tensor.nonzero(as_tuple=True)\n",
    "                tensor_nonzero = tensor[0:max(ix), :]\n",
    "                embs.append(tensor_nonzero)\n",
    "            for key_, img_, cap_, emb_ in zip(keys, imgs, caps, embs):\n",
    "                dst.write({\"__key__\":key_, \"png\":img_, \"txt\":cap_, \"emb.pyd\":emb_})\n",
    "            keys = []; imgs = []; caps = []"
   ]
  },
  {
   "cell_type": "code",
   "execution_count": 3,
   "id": "75b3add8",
   "metadata": {},
   "outputs": [],
   "source": [
    "def get_emb_tensor(text):\n",
    "    text_embeds = t5_encode_text([text], name=\"google/t5-v1_1-xl\", return_attn_mask=False)\n",
    "    return text_embeds.cpu()\n",
    "\n",
    "\n",
    "def augment_wds(input, output):\n",
    "    \n",
    "    stats_file = input[:-4] + \"_stats.json\"\n",
    "    f = open(stats_file)\n",
    "    stats = json.load(f)\n",
    "    f.close()\n",
    "    count = stats[\"successes\"]\n",
    "    \n",
    "    src = wds.DataPipeline(\n",
    "        wds.SimpleShardList(input),\n",
    "        wds.tarfile_to_samples(),\n",
    "        wds.decode(\"pil\"),\n",
    "        wds.to_tuple(\"__key__\", \"jpg;png\", \"txt\", \"txt\"),\n",
    "        wds.map_tuple(None, None, None, get_emb_tensor)\n",
    "    )\n",
    "    \n",
    "    with wds.TarWriter(output) as dst:\n",
    "        for key, img, cap, emb in tqdm(src, total=count, desc=f\"Writing {output}\"):\n",
    "            dst.write({\"__key__\":key, \"png\":img, \"txt\":cap, \"emb.pyd\":emb})"
   ]
  },
  {
   "cell_type": "code",
   "execution_count": null,
   "id": "287196c0",
   "metadata": {},
   "outputs": [
    {
     "name": "stderr",
     "output_type": "stream",
     "text": [
      "Writing file:E:/datasets/cc12m/00234.tar: 100%|██████████| 8561/8561 [06:52<00:00, 20.76it/s]\n",
      "Writing file:E:/datasets/cc12m/00235.tar: 100%|██████████| 8504/8504 [06:17<00:00, 22.56it/s]\n",
      "Writing file:E:/datasets/cc12m/00236.tar: 100%|██████████| 8464/8464 [06:13<00:00, 22.67it/s]\n",
      "Writing file:E:/datasets/cc12m/00237.tar: 100%|██████████| 8500/8500 [06:13<00:00, 22.77it/s]\n",
      "Writing file:E:/datasets/cc12m/00238.tar: 100%|██████████| 8453/8453 [06:07<00:00, 23.01it/s]\n",
      "Writing file:E:/datasets/cc12m/00239.tar: 100%|██████████| 8497/8497 [06:02<00:00, 23.41it/s]\n",
      "Writing file:E:/datasets/cc12m/00240.tar: 100%|██████████| 8461/8461 [06:03<00:00, 23.27it/s]\n",
      "Writing file:E:/datasets/cc12m/00241.tar: 100%|██████████| 8504/8504 [06:09<00:00, 23.01it/s]\n",
      "Writing file:E:/datasets/cc12m/00242.tar: 100%|██████████| 8520/8520 [06:08<00:00, 23.11it/s]\n",
      "Writing file:E:/datasets/cc12m/00243.tar: 100%|██████████| 8450/8450 [06:08<00:00, 22.93it/s]\n",
      "Writing file:E:/datasets/cc12m/00244.tar: 100%|██████████| 8571/8571 [06:13<00:00, 22.97it/s]\n",
      "Writing file:E:/datasets/cc12m/00245.tar: 100%|██████████| 8521/8521 [06:07<00:00, 23.18it/s]\n",
      "Writing file:E:/datasets/cc12m/00246.tar: 100%|██████████| 8513/8513 [06:05<00:00, 23.30it/s]\n",
      "Writing file:E:/datasets/cc12m/00247.tar: 100%|██████████| 8533/8533 [06:10<00:00, 23.06it/s]\n",
      "Writing file:E:/datasets/cc12m/00248.tar: 100%|██████████| 8464/8464 [06:02<00:00, 23.35it/s]\n",
      "Writing file:E:/datasets/cc12m/00249.tar: 100%|██████████| 8494/8494 [06:03<00:00, 23.40it/s]\n",
      "Writing file:E:/datasets/cc12m/00250.tar: 100%|██████████| 8441/8441 [06:06<00:00, 23.02it/s]\n",
      "Writing file:E:/datasets/cc12m/00251.tar: 100%|██████████| 8503/8503 [06:07<00:00, 23.13it/s]\n",
      "Writing file:E:/datasets/cc12m/00252.tar: 100%|██████████| 8492/8492 [06:09<00:00, 22.98it/s]\n",
      "Writing file:E:/datasets/cc12m/00253.tar: 100%|██████████| 8528/8528 [06:08<00:00, 23.16it/s]\n",
      "Writing file:E:/datasets/cc12m/00254.tar: 100%|██████████| 8463/8463 [06:08<00:00, 22.94it/s]\n",
      "Writing file:E:/datasets/cc12m/00255.tar: 100%|██████████| 8510/8510 [06:06<00:00, 23.19it/s]\n",
      "Writing file:E:/datasets/cc12m/00256.tar: 100%|██████████| 8492/8492 [06:03<00:00, 23.34it/s]\n",
      "Writing file:E:/datasets/cc12m/00257.tar: 100%|██████████| 8527/8527 [06:08<00:00, 23.12it/s]\n",
      "Writing file:E:/datasets/cc12m/00258.tar: 100%|██████████| 8530/8530 [06:15<00:00, 22.71it/s]\n",
      "Writing file:E:/datasets/cc12m/00259.tar: 100%|██████████| 8543/8543 [06:11<00:00, 23.01it/s]\n",
      "Writing file:E:/datasets/cc12m/00260.tar: 100%|██████████| 8465/8465 [06:06<00:00, 23.07it/s]\n",
      "Writing file:E:/datasets/cc12m/00261.tar: 100%|██████████| 8465/8465 [06:06<00:00, 23.07it/s]\n",
      "Writing file:E:/datasets/cc12m/00262.tar: 100%|██████████| 8457/8457 [06:08<00:00, 22.92it/s]\n",
      "Writing file:E:/datasets/cc12m/00263.tar: 100%|██████████| 8446/8446 [06:12<00:00, 22.69it/s]\n",
      "Writing file:E:/datasets/cc12m/00264.tar: 100%|██████████| 8535/8535 [06:09<00:00, 23.09it/s]\n",
      "Writing file:E:/datasets/cc12m/00265.tar: 100%|██████████| 8510/8510 [06:07<00:00, 23.18it/s]\n",
      "Writing file:E:/datasets/cc12m/00266.tar: 100%|██████████| 8456/8456 [06:03<00:00, 23.23it/s]\n",
      "Writing file:E:/datasets/cc12m/00267.tar: 100%|██████████| 8558/8558 [06:11<00:00, 23.03it/s]\n",
      "Writing file:E:/datasets/cc12m/00268.tar: 100%|██████████| 8535/8535 [06:15<00:00, 22.74it/s]\n",
      "Writing file:E:/datasets/cc12m/00269.tar: 100%|██████████| 8588/8588 [06:10<00:00, 23.16it/s]\n",
      "Writing file:E:/datasets/cc12m/00270.tar: 100%|██████████| 8522/8522 [06:12<00:00, 22.86it/s]\n",
      "Writing file:E:/datasets/cc12m/00271.tar: 100%|██████████| 8559/8559 [06:14<00:00, 22.85it/s]\n",
      "Writing file:E:/datasets/cc12m/00272.tar: 100%|██████████| 8476/8476 [06:07<00:00, 23.09it/s]\n",
      "Writing file:E:/datasets/cc12m/00273.tar: 100%|██████████| 8473/8473 [06:11<00:00, 22.83it/s]\n",
      "Writing file:E:/datasets/cc12m/00274.tar: 100%|██████████| 8473/8473 [06:02<00:00, 23.36it/s]\n",
      "Writing file:E:/datasets/cc12m/00275.tar: 100%|██████████| 8432/8432 [06:08<00:00, 22.90it/s]\n",
      "Writing file:E:/datasets/cc12m/00276.tar: 100%|██████████| 8449/8449 [06:02<00:00, 23.31it/s]\n",
      "Writing file:E:/datasets/cc12m/00277.tar: 100%|██████████| 8496/8496 [06:20<00:00, 22.31it/s]\n",
      "Writing file:E:/datasets/cc12m/00278.tar: 100%|██████████| 8478/8478 [06:06<00:00, 23.15it/s]\n",
      "Writing file:E:/datasets/cc12m/00279.tar: 100%|██████████| 8491/8491 [06:12<00:00, 22.82it/s]\n",
      "Writing file:E:/datasets/cc12m/00280.tar: 100%|██████████| 8531/8531 [06:15<00:00, 22.75it/s]\n",
      "Writing file:E:/datasets/cc12m/00281.tar: 100%|██████████| 8453/8453 [06:07<00:00, 23.02it/s]\n",
      "Writing file:E:/datasets/cc12m/00282.tar: 100%|██████████| 8469/8469 [06:22<00:00, 22.14it/s]\n",
      "Writing file:E:/datasets/cc12m/00283.tar: 100%|██████████| 8484/8484 [06:05<00:00, 23.22it/s]\n",
      "Writing file:E:/datasets/cc12m/00284.tar: 100%|██████████| 8513/8513 [06:13<00:00, 22.81it/s]\n",
      "Writing file:E:/datasets/cc12m/00285.tar: 100%|██████████| 8502/8502 [06:08<00:00, 23.06it/s]\n",
      "Writing file:E:/datasets/cc12m/00286.tar: 100%|██████████| 8480/8480 [06:09<00:00, 22.97it/s]\n",
      "Writing file:E:/datasets/cc12m/00287.tar: 100%|██████████| 8470/8470 [06:13<00:00, 22.71it/s]\n",
      "Writing file:E:/datasets/cc12m/00288.tar: 100%|██████████| 8484/8484 [06:14<00:00, 22.67it/s]\n",
      "Writing file:E:/datasets/cc12m/00289.tar: 100%|██████████| 8545/8545 [06:17<00:00, 22.63it/s]\n",
      "Writing file:E:/datasets/cc12m/00290.tar: 100%|██████████| 8507/8507 [06:13<00:00, 22.76it/s]\n",
      "Writing file:E:/datasets/cc12m/00291.tar: 100%|██████████| 8496/8496 [06:10<00:00, 22.91it/s]\n",
      "Writing file:E:/datasets/cc12m/00292.tar: 100%|██████████| 8467/8467 [06:11<00:00, 22.81it/s]\n",
      "Writing file:E:/datasets/cc12m/00293.tar: 100%|██████████| 8532/8532 [06:13<00:00, 22.86it/s]\n",
      "Writing file:E:/datasets/cc12m/00294.tar: 100%|██████████| 8503/8503 [06:13<00:00, 22.78it/s]  \n",
      "Writing file:E:/datasets/cc12m/00295.tar: 100%|██████████| 8569/8569 [06:14<00:00, 22.88it/s]\n",
      "Writing file:E:/datasets/cc12m/00296.tar: 100%|██████████| 8538/8538 [06:09<00:00, 23.09it/s]\n",
      "Writing file:E:/datasets/cc12m/00297.tar:   6%|▌         | 470/8500 [00:18<05:07, 26.10it/s]"
     ]
    }
   ],
   "source": [
    "input_shards = braceexpand.braceexpand(\"cc12m/{00234..01242}.tar\")\n",
    "output_shards = braceexpand.braceexpand(\"file:E:/datasets/cc12m/{00234..01242}.tar\")\n",
    "for input_shard, output_shard in zip(input_shards, output_shards):\n",
    "    augment_wds(input=input_shard, output=output_shard)"
   ]
  },
  {
   "cell_type": "code",
   "execution_count": null,
   "id": "402cfb83",
   "metadata": {},
   "outputs": [],
   "source": [
    "# input_shards = braceexpand.braceexpand(\"cc12m/{00154..00200}.tar\")\n",
    "# output_shards = braceexpand.braceexpand(\"cc12m_aug/{00154..00200}.tar\")\n",
    "# for input_shard, output_shard in zip(input_shards, output_shards):\n",
    "#     batch_augment_wds(input=input_shard, output=output_shard, batch_size=4)"
   ]
  },
  {
   "cell_type": "code",
   "execution_count": null,
   "id": "7e4cde28",
   "metadata": {},
   "outputs": [],
   "source": [
    "# input_shards = braceexpand.braceexpand(\"cc12m/{00100..00102}.tar\")\n",
    "# output_shards = braceexpand.braceexpand(\"file:E:/datasets/cc12m/{00100..00102}.tar\")\n",
    "# results = []\n",
    "# for input_shard, output_shard in zip(input_shards, output_shards):\n",
    "#     results.append(dask.delayed(augment_wds)(input_shard, output_shard))\n",
    "# dask.compute(*results)"
   ]
  }
 ],
 "metadata": {
  "kernelspec": {
   "display_name": "Python 3 (ipykernel)",
   "language": "python",
   "name": "python3"
  },
  "language_info": {
   "codemirror_mode": {
    "name": "ipython",
    "version": 3
   },
   "file_extension": ".py",
   "mimetype": "text/x-python",
   "name": "python",
   "nbconvert_exporter": "python",
   "pygments_lexer": "ipython3",
   "version": "3.9.12"
  }
 },
 "nbformat": 4,
 "nbformat_minor": 5
}
