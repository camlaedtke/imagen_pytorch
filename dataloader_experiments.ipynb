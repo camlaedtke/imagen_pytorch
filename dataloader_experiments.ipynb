{
 "cells": [
  {
   "cell_type": "markdown",
   "id": "911cd8a5",
   "metadata": {},
   "source": [
    "# Dataloader experiments"
   ]
  },
  {
   "cell_type": "code",
   "execution_count": null,
   "id": "03656db4",
   "metadata": {},
   "outputs": [],
   "source": [
    "import yaml\n",
    "import numpy as np\n",
    "from pathlib import Path\n",
    "import matplotlib.pyplot as plt\n",
    "from time import time\n",
    "\n",
    "import torch\n",
    "from torchvision import transforms as T, utils\n",
    "from torch.utils.data import DataLoader\n",
    "from imagen_pytorch.t5 import t5_encode_text\n",
    "import webdataset as wds\n",
    "\n",
    "%config InlineBackend.figure_format = 'retina'\n",
    "device = torch.device(\"cuda\") if torch.cuda.is_available() else torch.device(\"cpu\")\n",
    "print(device)"
   ]
  },
  {
   "cell_type": "code",
   "execution_count": null,
   "id": "4f6afc94",
   "metadata": {},
   "outputs": [],
   "source": [
    "cfg = yaml.safe_load(Path(\"configs\\\\imagen-medium-config.yaml\").read_text())\n",
    "\n",
    "preproc = T.Compose([\n",
    "    T.Resize(cfg[\"dataset\"][\"image_size\"]),\n",
    "    T.RandomHorizontalFlip(),\n",
    "    T.CenterCrop(cfg[\"dataset\"][\"image_size\"]),\n",
    "    T.ToTensor()\n",
    "])"
   ]
  },
  {
   "cell_type": "code",
   "execution_count": null,
   "id": "b46779cb",
   "metadata": {},
   "outputs": [],
   "source": [
    "def get_emb_tensor(cfg, targets, device):\n",
    "    text_embeds = t5_encode_text(targets, name=\"google/t5-v1_1-xl\", return_attn_mask=False)\n",
    "    return text_embeds.to(device)\n",
    "\n",
    "\n",
    "def padding_tensor(sequences):\n",
    "    \"\"\"\n",
    "    https://discuss.pytorch.org/t/how-to-do-padding-based-on-lengths/24442/2\n",
    "    :param sequences: list of tensors\n",
    "    :return:\n",
    "    \"\"\"\n",
    "    num = len(sequences)\n",
    "    max_len = max([s.size(1) for s in sequences])\n",
    "    out_dims = (num, max_len, 2048)\n",
    "    out_tensor = sequences[0].data.new(*out_dims).fill_(0)\n",
    "    for i, tensor in enumerate(sequences):\n",
    "        length = tensor.size(1)\n",
    "        out_tensor[i, :length, :] = tensor[:,:,0].permute(1,0)\n",
    "    return out_tensor\n",
    "\n",
    "\n",
    "def my_collate(batch):\n",
    "    imgs = [item[0] for item in batch]\n",
    "    embeds = [item[1] for item in batch]\n",
    "    embeds = padding_tensor(embeds)\n",
    "    return [imgs, embeds]\n",
    "\n",
    "\n",
    "\n",
    "def benchmark_regular(iters=50):\n",
    "    cc_dataset = (\n",
    "        wds.WebDataset(\"cc12m/{00000..00030}.tar\")\n",
    "        .shuffle(240)\n",
    "        .decode(\"pilrgb\")\n",
    "        .rename(image=\"jpg;png\", caption=\"txt\")\n",
    "        .map_dict(image=preproc)\n",
    "        .to_tuple(\"image\", \"caption\")\n",
    "    )\n",
    "    \n",
    "    cc_dataloader = DataLoader(\n",
    "        dataset = cc_dataset, \n",
    "        batch_size = cfg[\"train\"][\"batch_size\"], \n",
    "        drop_last = True,\n",
    "        # num_workers = 3,\n",
    "        # pin_memory = False\n",
    "    )\n",
    "    \n",
    "    step_times = []\n",
    "    start = time()\n",
    "    for step, batch in enumerate(cc_dataloader):\n",
    "        print(f\"\\r Step {step}\", end='')\n",
    "        \n",
    "        if step > 0:\n",
    "            step_start = time()\n",
    "        images, texts = batch\n",
    "        text_embeds = get_emb_tensor(cfg, texts, device)\n",
    "        if step > 0:\n",
    "            step_end = time()\n",
    "            step_times.append(step_end-step_start)\n",
    "        if step == iters:\n",
    "            break\n",
    "    end = time()\n",
    "    step_time = np.mean(step_times)\n",
    "    step_std = np.std(step_times)\n",
    "    print(f\"\\n Finished in {end-start:.1f}s at {step_time:.4f}s/it +\\- {step_std:.4f}\")\n",
    "    \n",
    "    \n",
    "def benchmark_aug(iters=50):\n",
    "    cc_dataset = (\n",
    "        wds.WebDataset(\"file:E:/datasets/cc12m/{00000..00030}.tar\") \n",
    "        .shuffle(240)\n",
    "        .decode(\"pilrgb\")\n",
    "        .rename(image=\"png\", embedding=\"emb.pyd\")\n",
    "        .map_dict(image=preproc)\n",
    "        .to_tuple(\"image\", \"embedding\")\n",
    "    )\n",
    "    \n",
    "    cc_dataloader = DataLoader(\n",
    "        dataset = cc_dataset, \n",
    "        batch_size = cfg[\"train\"][\"batch_size\"], \n",
    "        drop_last = True,\n",
    "        # num_workers = 3,\n",
    "        # pin_memory = False,\n",
    "        collate_fn=my_collate\n",
    "    )\n",
    "    \n",
    "    step_times = []\n",
    "    start = time()\n",
    "    for step, batch in enumerate(cc_dataloader):\n",
    "        print(f\"\\r Step {step}\", end='')\n",
    "        if step > 0:\n",
    "            step_start = time()\n",
    "        images, texts = batch\n",
    "        images = torch.stack(images, dim=0)\n",
    "        print(images.size())\n",
    "        text = texts.to(device)\n",
    "        if step > 0:\n",
    "            step_end = time()\n",
    "            step_times.append(step_end-step_start)\n",
    "        if step == iters:\n",
    "            break\n",
    "    end = time()\n",
    "    step_time = np.mean(step_times)\n",
    "    step_std = np.std(step_times)\n",
    "    print(f\"\\n Finished in {end-start:.1f}s at {step_time:.4f}s/it +\\- {step_std:.4f}\")"
   ]
  },
  {
   "cell_type": "code",
   "execution_count": null,
   "id": "4872ec73",
   "metadata": {
    "scrolled": false
   },
   "outputs": [],
   "source": [
    "benchmark_regular(50)"
   ]
  },
  {
   "cell_type": "code",
   "execution_count": null,
   "id": "058e27eb",
   "metadata": {
    "scrolled": false
   },
   "outputs": [],
   "source": [
    "benchmark_aug(50)"
   ]
  },
  {
   "cell_type": "markdown",
   "id": "76c4ba5f",
   "metadata": {},
   "source": [
    "| from embed | batch size | time | step time | step std |\n",
    "| --- | --- | --- | --- | --- |\n",
    "| F | 240 | 180.8s | 2.2411s | 0.7672s |\n",
    "| F | 240 | 128.5s | 2.0428s | 0.4996s |\n",
    "| T | 240 | 51.7s | 0.0960s | 0.0146s |\n",
    "| T | 240 | 80.3s | 0.0939s | 0.0212s |"
   ]
  },
  {
   "cell_type": "code",
   "execution_count": null,
   "id": "cad72318",
   "metadata": {},
   "outputs": [],
   "source": []
  }
 ],
 "metadata": {
  "kernelspec": {
   "display_name": "Python 3 (ipykernel)",
   "language": "python",
   "name": "python3"
  },
  "language_info": {
   "codemirror_mode": {
    "name": "ipython",
    "version": 3
   },
   "file_extension": ".py",
   "mimetype": "text/x-python",
   "name": "python",
   "nbconvert_exporter": "python",
   "pygments_lexer": "ipython3",
   "version": "3.9.12"
  }
 },
 "nbformat": 4,
 "nbformat_minor": 5
}
